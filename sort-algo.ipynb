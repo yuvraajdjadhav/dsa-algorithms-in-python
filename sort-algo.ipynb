{
 "cells": [
  {
   "cell_type": "markdown",
   "metadata": {},
   "source": [
    "Bubble sort\n",
    "\n"
   ]
  },
  {
   "cell_type": "code",
   "execution_count": 3,
   "metadata": {},
   "outputs": [],
   "source": [
    "def bubble_sort(arr):\n",
    "    for i in range(len(arr)-1):\n",
    "        for j in range(i, len(arr)-1-i):\n",
    "            if arr[j] > arr[j+1]:\n",
    "                arr[j], arr[j+1] = arr[j+1], arr[j]\n",
    "    print(arr)\n",
    "        "
   ]
  },
  {
   "cell_type": "code",
   "execution_count": 4,
   "metadata": {},
   "outputs": [
    {
     "name": "stdout",
     "output_type": "stream",
     "text": [
      "[1, 1, 3, 2, 4, 5, 5, 6, 9, 22]\n"
     ]
    }
   ],
   "source": [
    "nums = [3, 1, 4, 1, 5, 9, 2, 6, 5,22]\n",
    "bubble_sort(nums)"
   ]
  },
  {
   "cell_type": "markdown",
   "metadata": {},
   "source": [
    "selection sort"
   ]
  },
  {
   "cell_type": "code",
   "execution_count": 5,
   "metadata": {},
   "outputs": [],
   "source": [
    "def selection_sort(arr):\n",
    "    for i in range(len(arr)-1):\n",
    "        min  = i\n",
    "        for j in range(i+1, len(arr)):\n",
    "            if arr[j] < arr[min]:\n",
    "                min = j\n",
    "        arr[i],arr[min] = arr[min],arr[i]\n",
    "    print(arr)\n",
    "\n",
    "\n"
   ]
  },
  {
   "cell_type": "code",
   "execution_count": 6,
   "metadata": {},
   "outputs": [
    {
     "name": "stdout",
     "output_type": "stream",
     "text": [
      "[1, 1, 2, 3, 4, 5, 5, 6, 9, 22]\n"
     ]
    }
   ],
   "source": [
    "nums = [3, 1, 4, 1, 5, 9, 2, 6, 5,22]\n",
    "selection_sort(nums)"
   ]
  },
  {
   "cell_type": "markdown",
   "metadata": {},
   "source": [
    "Merge sort"
   ]
  },
  {
   "cell_type": "code",
   "execution_count": 7,
   "metadata": {},
   "outputs": [],
   "source": [
    "def merge_sorted(arr1,arr2):\n",
    "    i=j=0\n",
    "    merge_arr = []\n",
    "    while i < len(arr1) and j < len(arr2):\n",
    "        if arr1[i] < arr2[j]:\n",
    "            merge_arr.append(arr1[i])\n",
    "            i+=1\n",
    "        else:\n",
    "            merge_sort.append(arr2[j])\n",
    "            j+=1\n",
    "    while i < len(arr1):\n",
    "        merge_arr.append(arr1[i])\n",
    "        i+=1\n",
    "\n",
    "    while j < len(arr2):\n",
    "        merge_arr.append(arr2[j])\n",
    "        j+=1\n",
    "\n",
    "    return merge_arr\n",
    "        "
   ]
  },
  {
   "cell_type": "code",
   "execution_count": 8,
   "metadata": {},
   "outputs": [
    {
     "name": "stdout",
     "output_type": "stream",
     "text": [
      "[3, 1, 4, 5, 9, 2, 6, 5, 22]\n"
     ]
    }
   ],
   "source": [
    "nums = [3, 1, 4]\n",
    "nums2 = [5, 9, 2, 6, 5,22]\n",
    "result = merge_sorted(nums,nums2)\n",
    "print(result)"
   ]
  },
  {
   "cell_type": "code",
   "execution_count": 9,
   "metadata": {},
   "outputs": [],
   "source": [
    "def merge_sort(arr):\n",
    "    if len(arr) ==1:\n",
    "        return arr\n",
    "    mid  = len(arr)//2\n",
    "    left = arr[:mid]\n",
    "    right = arr[mid:]\n",
    "\n",
    "    left = merge_sort(left)\n",
    "    right = merge_sort(right)\n",
    "\n",
    "    return merge_sorted(left,right)\n"
   ]
  },
  {
   "cell_type": "code",
   "execution_count": null,
   "metadata": {},
   "outputs": [],
   "source": [
    "arr = [1,4,5,6,7,3,4,44,66,77,22,11,34,54,78,99,11,23]\n",
    "\n",
    "merge_sort(arr)"
   ]
  }
 ],
 "metadata": {
  "kernelspec": {
   "display_name": "venv",
   "language": "python",
   "name": "python3"
  },
  "language_info": {
   "codemirror_mode": {
    "name": "ipython",
    "version": 3
   },
   "file_extension": ".py",
   "mimetype": "text/x-python",
   "name": "python",
   "nbconvert_exporter": "python",
   "pygments_lexer": "ipython3",
   "version": "3.12.0b4"
  }
 },
 "nbformat": 4,
 "nbformat_minor": 2
}
