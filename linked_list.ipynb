{
 "cells": [
  {
   "cell_type": "code",
   "execution_count": 162,
   "metadata": {},
   "outputs": [],
   "source": [
    "class Node:\n",
    "    def __init__(self,val):\n",
    "        self.data = val\n",
    "        self.next = None"
   ]
  },
  {
   "cell_type": "code",
   "execution_count": 163,
   "metadata": {},
   "outputs": [],
   "source": [
    "node1 = Node(10) "
   ]
  },
  {
   "cell_type": "code",
   "execution_count": 164,
   "metadata": {},
   "outputs": [],
   "source": [
    "class Node:\n",
    "    def __init__(self, data):\n",
    "        self.data = data\n",
    "        self.next = None\n",
    "\n",
    "class LinkList:\n",
    "    def __init__(self):\n",
    "        self.head = None\n",
    "        self.n = 0\n",
    "    \n",
    "    def __len__(self):\n",
    "        return self.n\n",
    "    \n",
    "    def insert_head(self, value):\n",
    "        new_node = Node(value)\n",
    "        new_node.next = self.head\n",
    "        self.head = new_node\n",
    "        self.n += 1\n",
    "    \n",
    "    def __str__(self):\n",
    "        result = []\n",
    "        curr = self.head\n",
    "        while curr is not None:\n",
    "            result.append(str(curr.data))\n",
    "            curr = curr.next\n",
    "        return \" ==> \".join(result)\n",
    "    \n",
    "    def append(self, value):\n",
    "        new_node = Node(value)\n",
    "        if self.head is None:\n",
    "            self.head = new_node\n",
    "        else:\n",
    "            curr = self.get_last_node()\n",
    "            curr.next = new_node\n",
    "        self.n += 1\n",
    "    \n",
    "    def insert_after(self, after, value):\n",
    "        new_node = Node(value)\n",
    "        curr = self.head\n",
    "        while curr is not None:\n",
    "            if curr.data == after:\n",
    "                new_node.next = curr.next\n",
    "                curr.next = new_node\n",
    "                self.n += 1\n",
    "                return\n",
    "            curr = curr.next\n",
    "        return \"Item not found\"\n",
    "    \n",
    "    def clear(self):\n",
    "        self.head = None\n",
    "        self.n = 0\n",
    "    \n",
    "    def delete_head(self):\n",
    "        if self.head is None:\n",
    "            return \"Empty LL\"\n",
    "        self.head = self.head.next\n",
    "        self.n -= 1\n",
    "\n",
    "    def pop(self):\n",
    "        if self.head is None:\n",
    "            return \"Empty LL\"\n",
    "        if self.head.next is None:\n",
    "            self.delete_head()\n",
    "            return\n",
    "        curr = self.head\n",
    "        while curr.next.next is not None:\n",
    "            curr = curr.next\n",
    "        curr.next = None\n",
    "        self.n -= 1\n",
    "\n",
    "    def get_last_node(self):\n",
    "        curr = self.head\n",
    "        while curr.next is not None:\n",
    "            curr = curr.next\n",
    "        return curr\n",
    "\n",
    "    def remove(self, value):\n",
    "        if self.head is None:\n",
    "            return \"Empty LL\"\n",
    "        \n",
    "        if self.head.data == value:\n",
    "            self.delete_head()\n",
    "            return\n",
    "        \n",
    "        curr = self.head\n",
    "        while curr.next is not None:\n",
    "            if curr.next.data == value:\n",
    "                curr.next = curr.next.next\n",
    "                self.n -= 1\n",
    "                return\n",
    "            curr = curr.next\n",
    "        \n",
    "        return \"Not Found\"\n"
   ]
  },
  {
   "cell_type": "code",
   "execution_count": null,
   "metadata": {},
   "outputs": [],
   "source": []
  },
  {
   "cell_type": "markdown",
   "metadata": {},
   "source": [
    "<!-- Insert head node -->"
   ]
  },
  {
   "cell_type": "code",
   "execution_count": 165,
   "metadata": {},
   "outputs": [],
   "source": [
    "L = LinkList()\n",
    "\n",
    "objlist = []\n",
    "# for i in range(10):\n",
    "#     objlist.append(L.insert_head(i))"
   ]
  },
  {
   "cell_type": "code",
   "execution_count": 166,
   "metadata": {},
   "outputs": [
    {
     "data": {
      "text/plain": [
       "0"
      ]
     },
     "execution_count": 166,
     "metadata": {},
     "output_type": "execute_result"
    }
   ],
   "source": [
    "len(L)"
   ]
  },
  {
   "cell_type": "code",
   "execution_count": 167,
   "metadata": {},
   "outputs": [
    {
     "name": "stdout",
     "output_type": "stream",
     "text": [
      "15 ==>12 ==>32 ==>55 \n",
      "15 ==>12 ==>100 ==>32 ==>55 \n",
      "12 ==>100 ==>32 ==>55 \n"
     ]
    }
   ],
   "source": [
    "L.append(15)\n",
    "L.append(12)\n",
    "L.append(32)\n",
    "L.append(55)\n",
    "\n",
    "print(L)\n",
    "\n",
    "L.insert_after(12,100)\n",
    "print(L)\n",
    "L.delete_head()\n",
    "print(L)\n"
   ]
  },
  {
   "cell_type": "code",
   "execution_count": 168,
   "metadata": {},
   "outputs": [
    {
     "name": "stdout",
     "output_type": "stream",
     "text": [
      "100 ==>32 ==>55 \n"
     ]
    }
   ],
   "source": [
    "L.delete_head()\n",
    "print(L)"
   ]
  },
  {
   "cell_type": "code",
   "execution_count": 171,
   "metadata": {},
   "outputs": [
    {
     "ename": "AttributeError",
     "evalue": "'NoneType' object has no attribute 'next'",
     "output_type": "error",
     "traceback": [
      "\u001b[1;31m---------------------------------------------------------------------------\u001b[0m",
      "\u001b[1;31mAttributeError\u001b[0m                            Traceback (most recent call last)",
      "Cell \u001b[1;32mIn[171], line 1\u001b[0m\n\u001b[1;32m----> 1\u001b[0m \u001b[43mL\u001b[49m\u001b[38;5;241;43m.\u001b[39;49m\u001b[43mremove\u001b[49m\u001b[43m(\u001b[49m\u001b[38;5;241;43m32\u001b[39;49m\u001b[43m)\u001b[49m\n\u001b[0;32m      2\u001b[0m \u001b[38;5;28mprint\u001b[39m(L)\n",
      "Cell \u001b[1;32mIn[164], line 91\u001b[0m, in \u001b[0;36mLinkList.remove\u001b[1;34m(self, value)\u001b[0m\n\u001b[0;32m     88\u001b[0m         \u001b[38;5;28;01mbreak\u001b[39;00m\n\u001b[0;32m     89\u001b[0m curr \u001b[38;5;241m=\u001b[39m curr\u001b[38;5;241m.\u001b[39mnext\n\u001b[1;32m---> 91\u001b[0m \u001b[38;5;28;01mif\u001b[39;00m \u001b[43mcurr\u001b[49m\u001b[38;5;241;43m.\u001b[39;49m\u001b[43mnext\u001b[49m \u001b[38;5;129;01mis\u001b[39;00m \u001b[38;5;28;01mNone\u001b[39;00m:\n\u001b[0;32m     92\u001b[0m     \u001b[38;5;28;01mreturn\u001b[39;00m \u001b[38;5;124m\"\u001b[39m\u001b[38;5;124mNot Found\u001b[39m\u001b[38;5;124m\"\u001b[39m\n\u001b[0;32m     93\u001b[0m \u001b[38;5;28;01melse\u001b[39;00m:\n",
      "\u001b[1;31mAttributeError\u001b[0m: 'NoneType' object has no attribute 'next'"
     ]
    }
   ],
   "source": [
    "L.remove(32)\n",
    "print(L)\n"
   ]
  },
  {
   "cell_type": "code",
   "execution_count": 170,
   "metadata": {},
   "outputs": [
    {
     "name": "stdout",
     "output_type": "stream",
     "text": [
      "100 \n"
     ]
    }
   ],
   "source": [
    "L.pop()\n",
    "print(L)"
   ]
  }
 ],
 "metadata": {
  "kernelspec": {
   "display_name": "venv",
   "language": "python",
   "name": "python3"
  },
  "language_info": {
   "codemirror_mode": {
    "name": "ipython",
    "version": 3
   },
   "file_extension": ".py",
   "mimetype": "text/x-python",
   "name": "python",
   "nbconvert_exporter": "python",
   "pygments_lexer": "ipython3",
   "version": "3.12.0b4"
  }
 },
 "nbformat": 4,
 "nbformat_minor": 2
}
