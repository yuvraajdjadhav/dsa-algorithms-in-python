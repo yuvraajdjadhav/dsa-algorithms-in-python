{
 "cells": [
  {
   "cell_type": "code",
   "execution_count": null,
   "metadata": {},
   "outputs": [],
   "source": [
    "class QueueUsingStacks:\n",
    "    def __init__(self):\n",
    "        self.in_stack = []\n",
    "        self.out_stack = []\n",
    "\n",
    "    def enqueue(self, value):\n",
    "        self.in_stack.append(value)\n",
    "\n",
    "    def dequeue(self):\n",
    "        if not self.out_stack:\n",
    "            while self.in_stack:\n",
    "                self.out_stack.append(self.in_stack.pop())\n",
    "        if not self.out_stack:\n",
    "            return \"empty\"\n",
    "        return self.out_stack.pop()\n",
    "\n",
    "    def is_empty(self):\n",
    "        return not self.in_stack and not self.out_stack\n",
    "\n",
    "    def size(self):\n",
    "        return len(self.in_stack) + len(self.out_stack)\n",
    "\n",
    "    def traverse(self):\n",
    "        if not self.out_stack:\n",
    "            while self.in_stack:\n",
    "                self.out_stack.append(self.in_stack.pop())\n",
    "        print(\"Queue:\", end=\" \")\n",
    "        for element in reversed(self.out_stack):\n",
    "            print(element, end=\" \")\n",
    "        for element in self.in_stack:\n",
    "            print(element, end=\" \")\n",
    "        print()\n",
    "\n",
    "# Example usage\n",
    "queue = QueueUsingStacks()\n",
    "queue.enqueue(1)\n",
    "queue.enqueue(2)\n",
    "queue.enqueue(3)\n",
    "queue.traverse()  # Output: Queue: 1 2 3 \n",
    "\n",
    "print(\"Dequeue:\", queue.dequeue())  # Output: 1\n",
    "queue.traverse()  # Output: Queue: 2 3 \n",
    "\n",
    "print(\"Is empty:\", queue.is_empty())  # Output: False\n",
    "print(\"Size:\", queue.size())  # Output: 2\n",
    "\n",
    "queue.dequeue()\n",
    "queue.dequeue()\n",
    "print(\"Is empty:\", queue.is_empty())  # Output: True\n",
    "print(\"Size:\", queue.size())  # Output: 0\n"
   ]
  }
 ],
 "metadata": {
  "language_info": {
   "name": "python"
  }
 },
 "nbformat": 4,
 "nbformat_minor": 2
}
