{
 "cells": [
  {
   "cell_type": "code",
   "execution_count": 1,
   "metadata": {},
   "outputs": [
    {
     "name": "stdout",
     "output_type": "stream",
     "text": [
      "Queue: 1 2 3 \n",
      "Dequeue: 1\n",
      "Queue: 2 3 \n",
      "Is empty: False\n",
      "Size: 2\n",
      "Is empty: True\n",
      "Size: 0\n"
     ]
    },
    {
     "ename": "",
     "evalue": "",
     "output_type": "error",
     "traceback": [
      "\u001b[1;31mThe Kernel crashed while executing code in the current cell or a previous cell. \n",
      "\u001b[1;31mPlease review the code in the cell(s) to identify a possible cause of the failure. \n",
      "\u001b[1;31mClick <a href='https://aka.ms/vscodeJupyterKernelCrash'>here</a> for more info. \n",
      "\u001b[1;31mView Jupyter <a href='command:jupyter.viewOutput'>log</a> for further details."
     ]
    }
   ],
   "source": [
    "class QueueUsingStacks:\n",
    "    def __init__(self):\n",
    "        self.in_stack = []\n",
    "        self.out_stack = []\n",
    "\n",
    "    def enqueue(self, value):\n",
    "        self.in_stack.append(value)\n",
    "\n",
    "    def dequeue(self):\n",
    "        if not self.out_stack:\n",
    "            while self.in_stack:\n",
    "                self.out_stack.append(self.in_stack.pop())\n",
    "        if not self.out_stack:\n",
    "            return \"empty\"\n",
    "        return self.out_stack.pop()\n",
    "\n",
    "    def is_empty(self):\n",
    "        return not self.in_stack and not self.out_stack\n",
    "\n",
    "    def size(self):\n",
    "        return len(self.in_stack) + len(self.out_stack)\n",
    "\n",
    "    def traverse(self):\n",
    "        if not self.out_stack:\n",
    "            while self.in_stack:\n",
    "                self.out_stack.append(self.in_stack.pop())\n",
    "        print(\"Queue:\", end=\" \")\n",
    "        for element in reversed(self.out_stack):\n",
    "            print(element, end=\" \")\n",
    "        for element in self.in_stack:\n",
    "            print(element, end=\" \")\n",
    "        print()\n",
    "\n",
    "# Example usage\n",
    "queue = QueueUsingStacks()\n",
    "queue.enqueue(1)\n",
    "queue.enqueue(2)\n",
    "queue.enqueue(3)\n",
    "queue.traverse()  # Output: Queue: 1 2 3 \n",
    "\n",
    "print(\"Dequeue:\", queue.dequeue())  # Output: 1\n",
    "queue.traverse()  # Output: Queue: 2 3 \n",
    "\n",
    "print(\"Is empty:\", queue.is_empty())  # Output: False\n",
    "print(\"Size:\", queue.size())  # Output: 2\n",
    "\n",
    "queue.dequeue()\n",
    "queue.dequeue()\n",
    "print(\"Is empty:\", queue.is_empty())  # Output: True\n",
    "print(\"Size:\", queue.size())  # Output: 0\n"
   ]
  }
 ],
 "metadata": {
  "kernelspec": {
   "display_name": "venv",
   "language": "python",
   "name": "python3"
  },
  "language_info": {
   "codemirror_mode": {
    "name": "ipython",
    "version": 3
   },
   "file_extension": ".py",
   "mimetype": "text/x-python",
   "name": "python",
   "nbconvert_exporter": "python",
   "pygments_lexer": "ipython3",
   "version": "3.12.0"
  }
 },
 "nbformat": 4,
 "nbformat_minor": 2
}
